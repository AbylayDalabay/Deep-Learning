{
  "cells": [
    {
      "cell_type": "markdown",
      "metadata": {
        "id": "view-in-github",
        "colab_type": "text"
      },
      "source": [
        "<a href=\"https://colab.research.google.com/github/AbylayDalabay/Deep-Learning/blob/main/GAN_LAB_DALABAY.ipynb\" target=\"_parent\"><img src=\"https://colab.research.google.com/assets/colab-badge.svg\" alt=\"Open In Colab\"/></a>"
      ]
    },
    {
      "cell_type": "code",
      "source": [
        "from google.colab import drive\n",
        "drive.mount('/content/drive')\n",
        "\n",
        "DATA_DIR = '/content/drive/MyDrive/catcatcat/'"
      ],
      "metadata": {
        "id": "slNODpC_Yg91"
      },
      "id": "slNODpC_Yg91",
      "execution_count": null,
      "outputs": []
    },
    {
      "cell_type": "code",
      "source": [
        "from torch.utils.data import DataLoader\n",
        "from torchvision import transforms as tt\n",
        "from torchvision.datasets import ImageFolder\n",
        "\n",
        "image_size = 64\n",
        "batch_size = 128\n",
        "stats = ((0.5, 0.5, 0.5), (0.5, 0.5, 0.5))\n",
        "\n",
        "transform = tt.Compose([\n",
        "    tt.Resize(image_size),\n",
        "    tt.CenterCrop(image_size),\n",
        "    tt.ToTensor(),\n",
        "    tt.Normalize(*stats)\n",
        "])\n",
        "\n",
        "train_ds = ImageFolder(DATA_DIR, transform=transform)\n",
        "train_dl = DataLoader(train_ds, batch_size, shuffle=True, num_workers=2, pin_memory=True)"
      ],
      "metadata": {
        "id": "hWuwdnpnYpUc"
      },
      "id": "hWuwdnpnYpUc",
      "execution_count": null,
      "outputs": []
    },
    {
      "cell_type": "code",
      "source": [
        "import torch\n",
        "\n",
        "device = torch.device('cuda' if torch.cuda.is_available() else 'cpu')"
      ],
      "metadata": {
        "id": "TSO0Vt-sYtCz"
      },
      "id": "TSO0Vt-sYtCz",
      "execution_count": null,
      "outputs": []
    },
    {
      "cell_type": "code",
      "source": [
        "import torch.nn as nn\n",
        "\n",
        "discriminator = nn.Sequential(\n",
        "    nn.Conv2d(3, 64, kernel_size=4, stride=2, padding=1, bias=False),\n",
        "    nn.BatchNorm2d(64),\n",
        "    nn.LeakyReLU(0.2, inplace=True),\n",
        ").to(device)\n",
        "generator = nn.Sequential(\n",
        "    nn.ConvTranspose2d(128, 512, kernel_size=4, stride=1, padding=0, bias=False),\n",
        "    nn.BatchNorm2d(512),\n",
        "    nn.ReLU(True),\n",
        ").to(device)"
      ],
      "metadata": {
        "id": "xLKoRYdHYtRb"
      },
      "id": "xLKoRYdHYtRb",
      "execution_count": null,
      "outputs": []
    },
    {
      "cell_type": "code",
      "source": [
        "from torchvision.utils import save_image, make_grid\n",
        "import os\n",
        "\n",
        "sample_dir = 'generated'\n",
        "os.makedirs(sample_dir, exist_ok=True)\n",
        "\n",
        "def save_samples(index, latent_tensors, show=True):\n",
        "    with torch.no_grad():\n",
        "        fake_images = generator(latent_tensors)\n",
        "        fake_fname = f'generated-images-{index:04d}.png'\n",
        "        save_image(fake_images, os.path.join(sample_dir, fake_fname), nrow=8)\n",
        "        print(f'Saving {fake_fname}')\n",
        "        if show:\n",
        "            plt.figure(figsize=(8, 8))\n",
        "            plt.imshow(make_grid(fake_images.cpu().detach(), nrow=8).permute(1, 2, 0))\n",
        "            plt.axis('off')\n",
        "            plt.show()"
      ],
      "metadata": {
        "id": "XgBUehjeYtUy"
      },
      "id": "XgBUehjeYtUy",
      "execution_count": null,
      "outputs": []
    },
    {
      "cell_type": "code",
      "source": [
        "def train_gan(discriminator, generator, data_loader, epochs):\n",
        "    for epoch in range(epochs):\n",
        "        for real_images, _ in data_loader:\n",
        "            # Шаги обучения дискриминатора и генератора\n",
        "            pass\n",
        "\n",
        "        # Сохранение изображений каждые 10 эпох\n",
        "        if (epoch + 1) % 10 == 0:\n",
        "            save_samples(epoch, fixed_latent, show=True)"
      ],
      "metadata": {
        "id": "jlrnmaxIYz5x"
      },
      "id": "jlrnmaxIYz5x",
      "execution_count": null,
      "outputs": []
    },
    {
      "cell_type": "code",
      "source": [
        "epochs = 40\n",
        "train_gan(discriminator, generator, train_dl, epochs)"
      ],
      "metadata": {
        "id": "GNtJ4V_wY5ln"
      },
      "id": "GNtJ4V_wY5ln",
      "execution_count": null,
      "outputs": []
    }
  ],
  "metadata": {
    "kernelspec": {
      "display_name": "Python 3 (ipykernel)",
      "language": "python",
      "name": "python3"
    },
    "language_info": {
      "codemirror_mode": {
        "name": "ipython",
        "version": 3
      },
      "file_extension": ".py",
      "mimetype": "text/x-python",
      "name": "python",
      "nbconvert_exporter": "python",
      "pygments_lexer": "ipython3",
      "version": "3.11.5"
    },
    "colab": {
      "provenance": [],
      "include_colab_link": true
    }
  },
  "nbformat": 4,
  "nbformat_minor": 5
}